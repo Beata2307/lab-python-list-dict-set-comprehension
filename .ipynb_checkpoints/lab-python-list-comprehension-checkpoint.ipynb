{
 "cells": [
  {
   "cell_type": "markdown",
   "id": "25d7736c-ba17-4aff-b6bb-66eba20fbf4e",
   "metadata": {},
   "source": [
    "# Lab | List, Dict and Set Comprehension"
   ]
  },
  {
   "cell_type": "markdown",
   "id": "7dd3cbde-675a-4b81-92c3-f728846dbe06",
   "metadata": {},
   "source": [
    "## Exercise: Managing Customer Orders Optimized with Comprehension"
   ]
  },
  {
   "cell_type": "markdown",
   "id": "5d500160-2fb7-4777-b5e4-09d45ebaf328",
   "metadata": {},
   "source": [
    "In the previous exercise, you developed a program to manage customer orders and inventory. Now, let's take it a step further and incorporate comprehension into your code.\n",
    "\n",
    "Follow the steps below to complete the exercise:\n",
    "\n",
    "1. Review your code from the previous exercise and identify areas where you can apply comprehension to simplify and streamline your code. \n",
    "\n",
    "    - *Hint: Apply it to initialize inventory, updating the inventory and printing the updated inventory.*\n",
    "    \n",
    "    - For example, in initializing the inventory, we could have:\n",
    "    \n",
    "        ```python\n",
    "        def initialize_inventory(products):\n",
    "            inventory = {product: int(input(f\"Enter the quantity of {product}s available: \")) for product in products}\n",
    "            return inventory\n",
    "\n",
    "        ```\n",
    "<br>\n",
    "    \n",
    "    \n",
    "2. Modify the function get_customer_orders so it prompts the user to enter the number of customer orders and gathers the product names using a loop and user input. Use comprehension.\n",
    "\n",
    "3. Add a new function to calculate the total price of the customer order. For each product in customer_orders, prompt the user to enter the price of that product. Use comprehension to calculate the total price. Note: assume that the user can only have 1 unit of each product.\n",
    "\n",
    "4. Modify the update_inventory function to remove the product from the inventory if its quantity becomes zero after fulfilling the customer orders. Use comprehension to filter out the products with a quantity of zero from the inventory.\n",
    "\n",
    "5. Print the total price of the customer order.\n",
    "\n",
    "Your code should produce output similar to the following:\n",
    "\n",
    "```python\n",
    "Enter the quantity of t-shirts available:  5\n",
    "Enter the quantity of mugs available:  4\n",
    "Enter the quantity of hats available:  3\n",
    "Enter the quantity of books available:  2\n",
    "Enter the quantity of keychains available:  1\n",
    "Enter the number of customer orders:  2\n",
    "Enter the name of a product that a customer wants to order:  hat\n",
    "Enter the name of a product that a customer wants to order:  keychain\n",
    "\n",
    "Order Statistics:\n",
    "Total Products Ordered: 2\n",
    "Percentage of Unique Products Ordered: 40.0\n",
    "\n",
    "Updated Inventory:\n",
    "t-shirt: 5\n",
    "mug: 4\n",
    "hat: 2\n",
    "book: 2\n",
    "Enter the price of keychain:  5\n",
    "Enter the price of hat:  10\n",
    "Total Price: 15.0\n",
    "\n",
    "```\n"
   ]
  },
  {
   "cell_type": "markdown",
   "id": "c4cd4d52-f130-4bc5-9822-a18af2f7312c",
   "metadata": {},
   "source": [
    "1. Review your code from the previous exercise and identify areas where you can apply comprehension to simplify and streamline your code. \n",
    " Hint: Apply it to initialize inventory, updating the inventory and printing the updated inventory."
   ]
  },
  {
   "cell_type": "code",
   "execution_count": 97,
   "id": "130385bc-c5bd-4bfe-a184-54707def75da",
   "metadata": {
    "tags": []
   },
   "outputs": [],
   "source": [
    "def initialize_inventory(products):\n",
    "    inventory = {product: int(input(f\"Please enter the quantity of '{product}' available: \")) for product in products}\n",
    "    return inventory"
   ]
  },
  {
   "cell_type": "code",
   "execution_count": 13,
   "id": "2426bd01-e35b-4fe9-83ff-b8430cb1ef45",
   "metadata": {
    "tags": []
   },
   "outputs": [],
   "source": [
    "def update_inventory(customer_orders, inventory):\n",
    "    inventory = {key: value - 1 if key in customer_orders else value for key, value in inventory.items()}\n",
    "    return inventory\n"
   ]
  },
  {
   "cell_type": "code",
   "execution_count": 30,
   "id": "65087270-ac5f-47d6-a045-488b41cb8719",
   "metadata": {
    "tags": []
   },
   "outputs": [],
   "source": [
    "# def print_updated_inventory(inventory):\n",
    "#     lines = [f\"{key} : {value}\" for key, value in inventory.items()]\n",
    "#     print(\"\\n\".join(lines)) "
   ]
  },
  {
   "cell_type": "code",
   "execution_count": 123,
   "id": "942ae1b4-6b5d-4418-9b0d-47da0d6fd8c5",
   "metadata": {
    "tags": []
   },
   "outputs": [],
   "source": [
    "def print_updated_inventory(inventory):\n",
    "    [print(f\"{key} : {value}\") for key, value in inventory.items()]"
   ]
  },
  {
   "cell_type": "markdown",
   "id": "a23d4386-fd6e-4303-9121-597228fec293",
   "metadata": {},
   "source": [
    "2. Modify the function get_customer_orders so it prompts the user to enter the number of customer orders and gathers the product names using a loop and user input. Use comprehension.\n",
    "\n",
    "         new_set = {expression for item in iterable}"
   ]
  },
  {
   "cell_type": "code",
   "execution_count": 100,
   "id": "636702d7-7dcc-4da6-9bf5-d00420cc23b6",
   "metadata": {
    "tags": []
   },
   "outputs": [],
   "source": [
    "def get_customer_orders(): \n",
    "    add_order = int(input(\"Enter the number of customer orders: \"))\n",
    "    customer_orders = set()\n",
    "    customer_orders = {input(f\"Please the name of a product that a customer wants to order: \") for item in range(1, add_order+1)}\n",
    "    return customer_orders\n"
   ]
  },
  {
   "cell_type": "markdown",
   "id": "2a909562-f2b0-4dd4-a5b0-3fc25f1182a5",
   "metadata": {},
   "source": [
    "3. Add a new function to calculate the total price of the customer order. For each product in customer_orders, prompt the user to enter the price of that product. Use comprehension to calculate the total price. \n",
    "Note: assume that the user can only have 1 unit of each product."
   ]
  },
  {
   "cell_type": "code",
   "execution_count": 104,
   "id": "a8908c14-575c-452c-8d00-2c0a62036d89",
   "metadata": {
    "tags": []
   },
   "outputs": [],
   "source": [
    "def calculate_total_price(customer_orders):  \n",
    "    tot_price = sum([float(input(f\"What is the price of {prod}: \")) for prod in customer_orders])\n",
    "    return tot_price\n",
    "\n",
    "    # for prod in customer_orders:\n",
    "    #     price = float(input(f\"What is the price of {prod}: \"))\n",
    "    #     tot_price = tot_price + price"
   ]
  },
  {
   "cell_type": "markdown",
   "id": "1591d77e-a8b5-40ad-90ec-2c89e58f47db",
   "metadata": {},
   "source": [
    "4. Modify the update_inventory function to remove the product from the inventory if its quantity becomes zero after fulfilling the customer orders. Use comprehension to filter out the products with a quantity of zero from the inventory.\n",
    "\n"
   ]
  },
  {
   "cell_type": "code",
   "execution_count": 146,
   "id": "d7e3c738-c208-4762-b9c4-e65ff91899c7",
   "metadata": {
    "tags": []
   },
   "outputs": [],
   "source": [
    "def update_inventory_2(customer_orders, inventory):\n",
    "    inventory = {key: (value - 1) if key in customer_orders else value for (key,value) in inventory.items() if inventory[key] > 1 }\n",
    "    return inventory"
   ]
  },
  {
   "cell_type": "code",
   "execution_count": 134,
   "id": "8b502301-1520-4008-9e67-812f750635ef",
   "metadata": {
    "tags": []
   },
   "outputs": [
    {
     "name": "stdout",
     "output_type": "stream",
     "text": [
      "{'t-shirt': 5, 'mug': 4, 'hat': 4, 'book': 4, 'keychain': 5}\n"
     ]
    }
   ],
   "source": []
  },
  {
   "cell_type": "code",
   "execution_count": 110,
   "id": "ac08c2bc-8f3b-4bd5-8205-46bc4c8a6ef3",
   "metadata": {
    "tags": []
   },
   "outputs": [
    {
     "name": "stdout",
     "output_type": "stream",
     "text": [
      "{'t-shirt': 5, 'book': 5, 'keychain': 5}\n"
     ]
    }
   ],
   "source": [
    "# for prod in customer_orders:\n",
    "#         inventory[prod] = inventory[prod] - 1\n",
    "#         if inventory[prod] == 0:\n",
    "#             del inventory[prod]\n",
    "            \n",
    "            \n",
    "# print(inventory)"
   ]
  },
  {
   "cell_type": "markdown",
   "id": "cdbc3cb6-8946-413b-afcf-cbae11fe6394",
   "metadata": {},
   "source": [
    "5. Print the total price of the customer order."
   ]
  },
  {
   "cell_type": "code",
   "execution_count": 141,
   "id": "8f197da7-f357-457a-b8b2-764cd599b153",
   "metadata": {
    "tags": []
   },
   "outputs": [
    {
     "name": "stdin",
     "output_type": "stream",
     "text": [
      "Please enter the quantity of 't-shirt' available:  3\n",
      "Please enter the quantity of 'mug' available:  1\n",
      "Please enter the quantity of 'hat' available:  1\n",
      "Please enter the quantity of 'book' available:  1\n",
      "Please enter the quantity of 'keychain' available:  1\n",
      "Enter the number of customer orders:  2\n",
      "Please enter product ordered by a costumer:  hat\n",
      "Please enter product ordered by a costumer:  mug\n"
     ]
    },
    {
     "name": "stdout",
     "output_type": "stream",
     "text": [
      "{'t-shirt': 3, 'mug': 0, 'hat': 0, 'book': 1, 'keychain': 1}\n"
     ]
    },
    {
     "name": "stdin",
     "output_type": "stream",
     "text": [
      "What is the price of hat:  5\n",
      "What is the price of mug:  5\n"
     ]
    },
    {
     "name": "stdout",
     "output_type": "stream",
     "text": [
      "10.0\n",
      "<class 'float'>\n"
     ]
    }
   ],
   "source": [
    "products = [\"t-shirt\", \"mug\", \"hat\", \"book\", \"keychain\"]\n",
    "\n",
    "inventory = initialize_inventory(products)\n",
    "\n",
    "customer_orders = get_customer_orders()\n",
    "\n",
    "updated_inventory = update_inventory(customer_orders, inventory)\n",
    "\n",
    "print(updated_inventory)\n",
    "\n",
    "total_price = calculate_total_price(customer_orders)\n",
    "\n",
    "print(total_price)\n",
    "print(type(total_price))"
   ]
  },
  {
   "cell_type": "code",
   "execution_count": 148,
   "id": "4feadb8d-81c8-476e-a7f7-f1324788f998",
   "metadata": {
    "tags": []
   },
   "outputs": [
    {
     "name": "stdout",
     "output_type": "stream",
     "text": [
      "{'t-shirt': 3}\n"
     ]
    }
   ],
   "source": [
    "updated_inventory = update_inventory_2(customer_orders, inventory)\n",
    "\n",
    "print(updated_inventory)"
   ]
  },
  {
   "cell_type": "code",
   "execution_count": null,
   "id": "491fc4af-8cc7-49b3-be60-3301e1e0c2be",
   "metadata": {},
   "outputs": [],
   "source": []
  }
 ],
 "metadata": {
  "kernelspec": {
   "display_name": "Python 3 (ipykernel)",
   "language": "python",
   "name": "python3"
  },
  "language_info": {
   "codemirror_mode": {
    "name": "ipython",
    "version": 3
   },
   "file_extension": ".py",
   "mimetype": "text/x-python",
   "name": "python",
   "nbconvert_exporter": "python",
   "pygments_lexer": "ipython3",
   "version": "3.11.5"
  }
 },
 "nbformat": 4,
 "nbformat_minor": 5
}
